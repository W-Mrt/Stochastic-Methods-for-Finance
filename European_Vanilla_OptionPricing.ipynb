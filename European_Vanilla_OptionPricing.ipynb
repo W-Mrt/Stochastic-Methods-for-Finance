{
 "cells": [
  {
   "cell_type": "code",
   "execution_count": 2,
   "id": "c21d83ca",
   "metadata": {},
   "outputs": [],
   "source": [
    "import math\n",
    "import random\n",
    "import numpy as np #need for speedup the calculations"
   ]
  },
  {
   "cell_type": "markdown",
   "id": "530e1846",
   "metadata": {},
   "source": [
    "Option price can then be calculated by:\n",
    "\n",
    "- generate a large number of approximations for the stock price at maturity\n",
    "- determine the average pay-off from the stock prices\n",
    "- take the risk-free interest rate discount to obtain the option price"
   ]
  },
  {
   "cell_type": "code",
   "execution_count": 3,
   "id": "9cfe3ffe",
   "metadata": {},
   "outputs": [],
   "source": [
    "class EuropeanVanillaPricing:\n",
    "    def __init__(self, param):\n",
    "        self.pc = param.pc\n",
    "        self.S = param.S\n",
    "        self.K = param.K\n",
    "        self.T = param.T\n",
    "        self.r = param.r\n",
    "        self.sigma = param.sigma\n",
    "        self.iterations = param.iterations\n"
   ]
  },
  {
   "cell_type": "code",
   "execution_count": null,
   "id": "037bb5e1",
   "metadata": {},
   "outputs": [],
   "source": [
    "    def getPrice(self):\n",
    "            total = 0.0\n",
    "            mul = self.S*math.exp(self.T*(self.r - 0.5*self.sigma**2))\n",
    "            for i in range(0, self.iterations):\n",
    "                rand = random.gauss(0,1)\n",
    "                if self.pc == 'call':\n",
    "                    total += max(mul*math.exp(math.sqrt(self.T*self.sigma**2)*rand) - self.K, 0.0)\n",
    "                elif self.pc == 'put':\n",
    "                    total += max(self.K - mul*math.exp(math.sqrt(self.T*self.sigma**2)*rand), 0.0)\n",
    "\n",
    "            return math.exp(-1.0*self.r*self.T)*(total/self.iterations)"
   ]
  },
  {
   "cell_type": "markdown",
   "id": "3cbba4a7",
   "metadata": {},
   "source": [
    "The above function performs poorly because of the for loop used to generate pay-offs, it is possible to use NumPy to implement vector operations for better performances.\n",
    "\n",
    "Then we construct a $N\\times 2$ matrix of zeros where $N$ is the number of iterations and generate a vector containing $N$ normally distributed random numbers with mean zero and unit variance."
   ]
  },
  {
   "cell_type": "code",
   "execution_count": null,
   "id": "df549b34",
   "metadata": {},
   "outputs": [],
   "source": [
    "#calc = np.zeros([self.iterations, 2])\n",
    "#rand = np.random.normal(0, 1, [1, self.iterations])"
   ]
  },
  {
   "cell_type": "markdown",
   "id": "c4d32902",
   "metadata": {},
   "source": [
    "The second column of the $N\\times 2$ matrix is then assigned to $S(T)-K$ or $K-S(T)$ for a call or put option respectively."
   ]
  },
  {
   "cell_type": "code",
   "execution_count": null,
   "id": "fa37e12d",
   "metadata": {},
   "outputs": [],
   "source": [
    "#mult = self.S*np.exp(self.T*(self.r - 0.5*self.sigma*self.sigma))\n",
    " \n",
    "#if self.pc == 'call':\n",
    "#    calc[:,1] = mult*np.exp(np.sqrt((self.sigma**2)*self.T)*rand) - self.K\n",
    "#elif self.pc == 'put':\n",
    "#    calc[:,1] = self.K - mult*np.exp(np.sqrt((self.sigma**2)*self.T)*rand)\n"
   ]
  },
  {
   "cell_type": "markdown",
   "id": "865de87c",
   "metadata": {},
   "source": [
    "We now determine the maximum value in each row of the $N\\times 2$ matrix using the NumPy amax command. The average pay-off is then calculated by summing together the returned vector and dividing by the number of iterations. The average pay-off is then multiplied by $e^{-rT}$. Hence, the NumPy optimised pricing function takes the form:\n",
    "\n"
   ]
  },
  {
   "cell_type": "code",
   "execution_count": 5,
   "id": "f56877b5",
   "metadata": {},
   "outputs": [],
   "source": [
    "    def getMCPrice(self):\n",
    "            'Determine the option price using a Monte Carlo approach'\n",
    "            calc = np.zeros([self.iterations, 2])\n",
    "            rand = np.random.normal(0, 1, [1, self.iterations])\n",
    "            mult = self.S*np.exp(self.T*(self.r - 0.5*self.sigma**2))\n",
    "\n",
    "            if self.pc == 'call':\n",
    "                calc[:,1] = mult*np.exp(np.sqrt((self.sigma**2)*self.T)*rand) - self.K\n",
    "            elif self.pc == 'put':\n",
    "                calc[:,1] = self.K - mult*np.exp(np.sqrt((self.sigma**2)*self.T)*rand)\n",
    "\n",
    "            avg_po = np.sum(np.amax(calc, axis=1))/float(self.iterations)\n",
    "\n",
    "            return np.exp(-1.0*self.r*self.T)*avg_po\n"
   ]
  },
  {
   "cell_type": "markdown",
   "id": "7a3af2d3",
   "metadata": {},
   "source": [
    "Include the exact Black-Scholes for European options prices."
   ]
  },
  {
   "cell_type": "code",
   "execution_count": 9,
   "id": "4dbd44ed",
   "metadata": {},
   "outputs": [],
   "source": [
    "    def getBlackScholesPrice(self):\n",
    "            'Determine the option price using the exact Black-Scholes expression.'\n",
    "            d1 =  np.log(self.S/self.K) + (self.r + 0.5*self.sigma**2)*self.T\n",
    "            d1 /= self.sigma*np.sqrt(self.T)\n",
    "\n",
    "            d2 = d1 - self.sigma*np.sqrt(self.T)\n",
    "\n",
    "            call = self.S*self.ncdf(d1)\n",
    "            call -= self.K*np.exp(-1.0*self.r*self.T)*self.ncdf(d2)\n",
    "\n",
    "            if self.pc == 'call':\n",
    "                return call\n",
    "            elif self.pc == 'put':\n",
    "                return self.applyPCParity(call)\n",
    " \n",
    "\n"
   ]
  },
  {
   "cell_type": "code",
   "execution_count": 10,
   "id": "bc732f62",
   "metadata": {},
   "outputs": [],
   "source": [
    "    def ncdf(self, x):\n",
    "            'Cumulative distribution function for the standard normal distribution'\n",
    "            return (1.0 + math.erf(x / math.sqrt(2.0))) / 2.0\n",
    " \n"
   ]
  },
  {
   "cell_type": "code",
   "execution_count": 11,
   "id": "57d85789",
   "metadata": {},
   "outputs": [],
   "source": [
    "    def applyPCParity(self, call):\n",
    "            'Make use of put-call parity to determine put price.'\n",
    "            return self.K*np.exp(-1.0*self.r*self.T) - self.S + call"
   ]
  },
  {
   "cell_type": "markdown",
   "id": "1cdec26d",
   "metadata": {},
   "source": [
    "Gathering code together for testing with given parameters"
   ]
  },
  {
   "cell_type": "code",
   "execution_count": 37,
   "id": "befca895",
   "metadata": {},
   "outputs": [],
   "source": [
    "import numpy as np\n",
    "import math\n",
    "import time\n",
    " \n",
    "class EuropeanVanillaPricing:\n",
    "    def __init__(self, param):\n",
    "        self.method = param.method\n",
    "        self.pc = param.pc\n",
    "        self.S = param.S\n",
    "        self.K = param.K\n",
    "        self.T = param.T\n",
    "        self.r = param.r\n",
    "        self.sigma = param.sigma\n",
    "        if self.method == 'mc':\n",
    "            self.iterations = param.iterations\n",
    " \n",
    "    def getPrice(self):\n",
    "        if self.method == 'mc':\n",
    "            return self.getMCPrice()\n",
    "        elif self.method == 'exact':\n",
    "            return self.getBlackScholesPrice()\n",
    " \n",
    "    def getMCPrice(self):\n",
    "        'Determine the option price using a Monte Carlo approach'\n",
    "        calc = np.zeros([self.iterations, 2])\n",
    "        rand = np.random.normal(0, 1, [1, self.iterations])\n",
    "        mult = self.S*np.exp(self.T*(self.r - 0.5*self.sigma**2))\n",
    " \n",
    "        if self.pc == 'call':\n",
    "            calc[:,1] = mult*np.exp(np.sqrt((self.sigma**2)*self.T)*rand) - self.K\n",
    "        elif self.pc == 'put':\n",
    "            calc[:,1] = self.K - mult*np.exp(np.sqrt((self.sigma**2)*self.T)*rand)\n",
    " \n",
    "        avg_po = np.sum(np.amax(calc, axis=1))/float(self.iterations)\n",
    "  \n",
    "        return np.exp(-1.0*self.r*self.T)*avg_po\n",
    " \n",
    "    def getBlackScholesPrice(self):\n",
    "        'Determine the option price using the exact Black-Scholes expression.'\n",
    "        d1 =  np.log(self.S/self.K) + (self.r + 0.5*self.sigma**2)*self.T\n",
    "        d1 /= self.sigma*np.sqrt(self.T)\n",
    " \n",
    "        d2 = d1 - self.sigma*np.sqrt(self.T)\n",
    " \n",
    "        call = self.S*self.ncdf(d1)\n",
    "        call -= self.K*np.exp(-1.0*self.r*self.T)*self.ncdf(d2)\n",
    " \n",
    "        if self.pc == 'call':\n",
    "            return call\n",
    "        elif self.pc == 'put':\n",
    "            return self.applyPCParity(call)\n",
    " \n",
    "    def ncdf(self, x):\n",
    "        'Cumulative distribution function for the standard normal distribution'\n",
    "        return (1.0 + math.erf(x / math.sqrt(2.0))) / 2.0\n",
    " \n",
    "    def applyPCParity(self, call):\n",
    "        'Make use of put-call parity to determine put price.'\n",
    "        return self.K*np.exp(-1.0*self.r*self.T) - self.S + call\n"
   ]
  },
  {
   "cell_type": "code",
   "execution_count": 63,
   "id": "c562538a",
   "metadata": {},
   "outputs": [
    {
     "name": "stdout",
     "output_type": "stream",
     "text": [
      "Method Monte Carlo\n",
      "Price: 8.608798307065253\n",
      "Iterations: 500\n",
      "Time: 0.0010030269622802734s\n"
     ]
    }
   ],
   "source": [
    "class Parameters:\n",
    "  pass\n",
    " \n",
    "testParam = Parameters()\n",
    "testParam.T = 1.\n",
    "testParam.S = 100.0\n",
    "testParam.K = 99.0\n",
    "testParam.sigma = 0.20\n",
    "testParam.r = 0.01;\n",
    "testParam.method = 'mc'\n",
    "testParam.pc = 'call'\n",
    "testParam.iterations = 500\n",
    " \n",
    "option = EuropeanVanillaPricing(testParam)\n",
    "print ('Method Monte Carlo')\n",
    "t0 = time.time()\n",
    "print ('Price: ' + str(option.getPrice()))\n",
    "t1 = time.time()\n",
    "print ('Iterations: ' + str(testParam.iterations))\n",
    "print( 'Time: ' +str(t1-t0) + 's')"
   ]
  },
  {
   "cell_type": "code",
   "execution_count": 64,
   "id": "8cd68410",
   "metadata": {},
   "outputs": [
    {
     "name": "stdout",
     "output_type": "stream",
     "text": [
      "Black&Scholes\n",
      "Price: 8.918504421014205\n",
      "Iterations: 500\n",
      "Time: 0.0s\n"
     ]
    }
   ],
   "source": [
    "class Parameters:\n",
    "  pass\n",
    " \n",
    "testParam = Parameters()\n",
    "testParam.T = 1.\n",
    "testParam.S = 100.0\n",
    "testParam.K = 99.0\n",
    "testParam.sigma = 0.20\n",
    "testParam.r = 0.01;\n",
    "testParam.method = 'exact'\n",
    "testParam.pc = 'call'\n",
    "testParam.iterations = 500\n",
    " \n",
    "option = EuropeanVanillaPricing(testParam)\n",
    "print ('Black&Scholes')\n",
    "t0 = time.time()\n",
    "print ('Price: ' + str(option.getPrice()))\n",
    "t1 = time.time()\n",
    "print ('Iterations: ' + str(testParam.iterations))\n",
    "print( 'Time: ' +str(t1-t0) + 's')"
   ]
  },
  {
   "cell_type": "code",
   "execution_count": 65,
   "id": "37bb9064",
   "metadata": {},
   "outputs": [
    {
     "name": "stdout",
     "output_type": "stream",
     "text": [
      "Method Monte Carlo\n",
      "Price: 6.853152981196179\n",
      "Iterations: 500\n",
      "Time: 0.0s\n"
     ]
    }
   ],
   "source": [
    "class Parameters:\n",
    "  pass\n",
    " \n",
    "testParam = Parameters()\n",
    "testParam.T = 1.\n",
    "testParam.S = 100.0\n",
    "testParam.K = 99.0\n",
    "testParam.sigma = 0.20\n",
    "testParam.r = 0.01;\n",
    "testParam.method = 'mc'\n",
    "testParam.pc = 'put'\n",
    "testParam.iterations = 500\n",
    " \n",
    "option = EuropeanVanillaPricing(testParam)\n",
    "print ('Method Monte Carlo')\n",
    "t0 = time.time()\n",
    "print ('Price: ' + str(option.getPrice()))\n",
    "t1 = time.time()\n",
    "print ('Iterations: ' + str(testParam.iterations))\n",
    "print( 'Time: ' +str(t1-t0) + 's')"
   ]
  },
  {
   "cell_type": "code",
   "execution_count": 66,
   "id": "37b13bea",
   "metadata": {},
   "outputs": [
    {
     "name": "stdout",
     "output_type": "stream",
     "text": [
      "Black&Scholes\n",
      "Price: 6.933437962181841\n",
      "Iterations: 500\n",
      "Time: 0.0s\n"
     ]
    }
   ],
   "source": [
    "class Parameters:\n",
    "  pass\n",
    " \n",
    "testParam = Parameters()\n",
    "testParam.T = 1.\n",
    "testParam.S = 100.0\n",
    "testParam.K = 99.0\n",
    "testParam.sigma = 0.20\n",
    "testParam.r = 0.01;\n",
    "testParam.method = 'exact'\n",
    "testParam.pc = 'put'\n",
    "testParam.iterations = 500\n",
    " \n",
    "option = EuropeanVanillaPricing(testParam)\n",
    "print ('Black&Scholes')\n",
    "t0 = time.time()\n",
    "print ('Price: ' + str(option.getPrice()))\n",
    "t1 = time.time()\n",
    "print ('Iterations: ' + str(testParam.iterations))\n",
    "print( 'Time: ' +str(t1-t0) + 's')"
   ]
  }
 ],
 "metadata": {
  "kernelspec": {
   "display_name": "Python 3 (ipykernel)",
   "language": "python",
   "name": "python3"
  },
  "language_info": {
   "codemirror_mode": {
    "name": "ipython",
    "version": 3
   },
   "file_extension": ".py",
   "mimetype": "text/x-python",
   "name": "python",
   "nbconvert_exporter": "python",
   "pygments_lexer": "ipython3",
   "version": "3.9.7"
  }
 },
 "nbformat": 4,
 "nbformat_minor": 5
}
